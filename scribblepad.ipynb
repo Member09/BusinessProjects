{
 "cells": [
  {
   "cell_type": "code",
   "execution_count": 5,
   "metadata": {},
   "outputs": [
    {
     "ename": "IndentationError",
     "evalue": "unindent does not match any outer indentation level (<tokenize>, line 13)",
     "output_type": "error",
     "traceback": [
      "\u001b[1;36m  File \u001b[1;32m\"<tokenize>\"\u001b[1;36m, line \u001b[1;32m13\u001b[0m\n\u001b[1;33m    print('a')\u001b[0m\n\u001b[1;37m    ^\u001b[0m\n\u001b[1;31mIndentationError\u001b[0m\u001b[1;31m:\u001b[0m unindent does not match any outer indentation level\n"
     ]
    }
   ],
   "source": [
    "def armstrongNumber(arr):\n",
    "\t# Write your code here\n",
    "\tresult = []\n",
    "\tfor i in arr:\n",
    "\t\tsum_of_digits = 0\n",
    "\t\tnum = i\n",
    "\t\twhile(num%10 != 0):\n",
    "\t\t\tdigit = (num%10)^3\n",
    "\t\t\tnum = int(num/10)\n",
    "\t\t\tsum_of_digits += digit\n",
    "\t\tif(sum_of_digits == i):\n",
    "\t\t\tresult.append(\"\\n It is an ARMSTRONG number\")\n",
    "\t\telse:\n",
    "\t\t\tresult.append(\"\\n It is not an ARMSTRONG number\")\n"
   ]
  },
  {
   "cell_type": "code",
   "execution_count": 3,
   "metadata": {},
   "outputs": [],
   "source": [
    "result = armstrongNumber([153])\n",
    "result"
   ]
  },
  {
   "cell_type": "code",
   "execution_count": 8,
   "metadata": {},
   "outputs": [
    {
     "name": "stdout",
     "output_type": "stream",
     "text": [
      "153\n",
      "34\n"
     ]
    }
   ],
   "source": [
    "for i in [153,34]:\n",
    "    print(i)"
   ]
  }
 ],
 "metadata": {
  "kernelspec": {
   "display_name": "Python 3",
   "language": "python",
   "name": "python3"
  },
  "language_info": {
   "codemirror_mode": {
    "name": "ipython",
    "version": 3
   },
   "file_extension": ".py",
   "mimetype": "text/x-python",
   "name": "python",
   "nbconvert_exporter": "python",
   "pygments_lexer": "ipython3",
   "version": "3.7.7"
  }
 },
 "nbformat": 4,
 "nbformat_minor": 4
}
